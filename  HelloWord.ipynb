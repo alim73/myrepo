{
 "cells": [
  {
   "cell_type": "code",
   "execution_count": 1,
   "id": "a40c725e-9091-4cb8-af94-ee51e52c6e2a",
   "metadata": {},
   "outputs": [
    {
     "name": "stdout",
     "output_type": "stream",
     "text": [
      "Hello, world!\n"
     ]
    }
   ],
   "source": [
    "print(\"Hello, world!\")"
   ]
  },
  {
   "cell_type": "markdown",
   "id": "2e1c9997-46f7-493e-8c1d-d65628fcc42d",
   "metadata": {},
   "source": [
    "# My First Markdown Heading"
   ]
  },
  {
   "cell_type": "code",
   "execution_count": 2,
   "id": "cab28b6c-6149-48fe-a4fb-d6a9be07e7b4",
   "metadata": {},
   "outputs": [],
   "source": [
    "## My Second Markdown Heading"
   ]
  },
  {
   "cell_type": "markdown",
   "id": "cd2c5563-6194-4cd7-82fc-fc2135a7f6c1",
   "metadata": {},
   "source": [
    "## My Second Markdown Heading"
   ]
  },
  {
   "cell_type": "code",
   "execution_count": 3,
   "id": "b44c22be-6dbc-4d1f-9074-e91d684c753c",
   "metadata": {},
   "outputs": [
    {
     "ename": "SyntaxError",
     "evalue": "invalid syntax (21640022.py, line 1)",
     "output_type": "error",
     "traceback": [
      "\u001b[1;36m  Cell \u001b[1;32mIn[3], line 1\u001b[1;36m\u001b[0m\n\u001b[1;33m    This is some **bold** text.\u001b[0m\n\u001b[1;37m                               ^\u001b[0m\n\u001b[1;31mSyntaxError\u001b[0m\u001b[1;31m:\u001b[0m invalid syntax\n"
     ]
    }
   ],
   "source": [
    "This is some **bold** text."
   ]
  },
  {
   "cell_type": "markdown",
   "id": "abbc0b99-2c79-48e6-bd91-a4f9cd63ae70",
   "metadata": {},
   "source": [
    "This is some **bold** text."
   ]
  },
  {
   "cell_type": "markdown",
   "id": "7660e1b0-1940-4796-9e11-ac79f0c10c8b",
   "metadata": {},
   "source": [
    "1. First item\n",
    "2. Second item\n",
    "3. Third item"
   ]
  },
  {
   "cell_type": "markdown",
   "id": "f5a9e60c-10a6-4db5-b44d-52bc2bfaf840",
   "metadata": {},
   "source": [
    "my_var = 5"
   ]
  },
  {
   "cell_type": "code",
   "execution_count": 4,
   "id": "a461180f-0ca3-4280-ba87-f6af518c7569",
   "metadata": {},
   "outputs": [],
   "source": [
    "my_var = 5\n"
   ]
  },
  {
   "cell_type": "code",
   "execution_count": 5,
   "id": "667ff2a2-c7ad-440b-b3f9-a5d127f582e9",
   "metadata": {},
   "outputs": [
    {
     "name": "stdout",
     "output_type": "stream",
     "text": [
      "10\n"
     ]
    }
   ],
   "source": [
    "result = my_var * 2\n",
    "print(result)"
   ]
  },
  {
   "cell_type": "code",
   "execution_count": null,
   "id": "2faae68e-fbd7-4659-b64c-6ddad1ae4a94",
   "metadata": {},
   "outputs": [],
   "source": []
  }
 ],
 "metadata": {
  "kernelspec": {
   "display_name": "Python 3 (ipykernel)",
   "language": "python",
   "name": "python3"
  },
  "language_info": {
   "codemirror_mode": {
    "name": "ipython",
    "version": 3
   },
   "file_extension": ".py",
   "mimetype": "text/x-python",
   "name": "python",
   "nbconvert_exporter": "python",
   "pygments_lexer": "ipython3",
   "version": "3.10.9"
  }
 },
 "nbformat": 4,
 "nbformat_minor": 5
}
